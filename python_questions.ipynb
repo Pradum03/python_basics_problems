{
 "cells": [
  {
   "cell_type": "markdown",
   "id": "786c6a0b-0a3a-42b6-bef7-974b2f05c86a",
   "metadata": {},
   "source": [
    "1. Write a Python program to reverse a string without using any built-in string reversal functions.\n"
   ]
  },
  {
   "cell_type": "code",
   "execution_count": 1,
   "id": "1d6c184e-e546-4e69-896e-1a91b0d9d713",
   "metadata": {},
   "outputs": [],
   "source": [
    "s = 'my string'"
   ]
  },
  {
   "cell_type": "code",
   "execution_count": 3,
   "id": "edc85e8d-e719-4980-b683-49a23349cb9d",
   "metadata": {},
   "outputs": [
    {
     "data": {
      "text/plain": [
       "'gnirts ym'"
      ]
     },
     "execution_count": 3,
     "metadata": {},
     "output_type": "execute_result"
    }
   ],
   "source": [
    "s[::-1]"
   ]
  },
  {
   "cell_type": "markdown",
   "id": "b8ad52d1-c21f-48fb-adc5-123e3a341728",
   "metadata": {},
   "source": [
    "2. Implement a function to check if a given string is a palindrome.\n"
   ]
  },
  {
   "cell_type": "code",
   "execution_count": 7,
   "id": "e69d8b1f-15d5-4e86-ab27-049fba28a3b7",
   "metadata": {},
   "outputs": [
    {
     "name": "stdout",
     "output_type": "stream",
     "text": [
      "palindrome\n"
     ]
    }
   ],
   "source": [
    "s= 'nitin'\n",
    "ns=s[::-1]\n",
    "\n",
    "if ns==s:\n",
    "    print(\"palindrome\")\n",
    "else:\n",
    "    print(\"not palindrome\")"
   ]
  },
  {
   "cell_type": "markdown",
   "id": "6b907590-02a3-4373-8f83-e16246d49fe1",
   "metadata": {},
   "source": [
    "3. Write a program to find the largest element in a given list.\n"
   ]
  },
  {
   "cell_type": "code",
   "execution_count": 8,
   "id": "9396d2a0-4591-4ac1-a9bb-b8ce546efbea",
   "metadata": {},
   "outputs": [],
   "source": [
    "my_list=[2,4,3,6,1]\n"
   ]
  },
  {
   "cell_type": "code",
   "execution_count": 9,
   "id": "cab5db7b-b926-4ece-82ac-8fe06a11980c",
   "metadata": {},
   "outputs": [
    {
     "data": {
      "text/plain": [
       "6"
      ]
     },
     "execution_count": 9,
     "metadata": {},
     "output_type": "execute_result"
    }
   ],
   "source": [
    "max(my_list)"
   ]
  },
  {
   "cell_type": "markdown",
   "id": "7d07ccbf-2999-4ed5-8113-f20c641c9d32",
   "metadata": {},
   "source": [
    "4. Implement a function to count the occurrence of each element in a list.\n"
   ]
  },
  {
   "cell_type": "code",
   "execution_count": 12,
   "id": "dc8bf0b5-7c6b-4d16-9d2b-545b61237207",
   "metadata": {},
   "outputs": [],
   "source": [
    "my_list=[2,4,4,6,1,2,7,2,6]\n",
    "occurance_count={}\n",
    "for i in my_list:\n",
    "    if i in occurance_count:\n",
    "        occurance_count[i]+=1;\n",
    "    else:\n",
    "        occurance_count[i]=1;"
   ]
  },
  {
   "cell_type": "code",
   "execution_count": 13,
   "id": "215dcf19-af80-4c10-bc29-02ef7635b3b8",
   "metadata": {},
   "outputs": [
    {
     "data": {
      "text/plain": [
       "{2: 3, 4: 2, 6: 2, 1: 1, 7: 1}"
      ]
     },
     "execution_count": 13,
     "metadata": {},
     "output_type": "execute_result"
    }
   ],
   "source": [
    "occurance_count"
   ]
  },
  {
   "cell_type": "code",
   "execution_count": 14,
   "id": "b7b0db86-7df6-4abc-a283-b4f197e6d5f7",
   "metadata": {},
   "outputs": [],
   "source": [
    "# alternate approch"
   ]
  },
  {
   "cell_type": "code",
   "execution_count": 15,
   "id": "c39f1832-ab3a-45d1-a30a-ccf60e35d901",
   "metadata": {},
   "outputs": [
    {
     "name": "stdout",
     "output_type": "stream",
     "text": [
      "Counter({2: 3, 4: 2, 6: 2, 1: 1, 7: 1})\n"
     ]
    }
   ],
   "source": [
    "from collections import Counter\n",
    "oc_list=Counter(my_list)\n",
    "print(oc_list)"
   ]
  },
  {
   "cell_type": "markdown",
   "id": "0395eda4-95d7-41d4-81ef-ba5eadd5fdda",
   "metadata": {},
   "source": [
    "5.  Write a Python program to find the second largest number in a list.\n"
   ]
  },
  {
   "cell_type": "code",
   "execution_count": 16,
   "id": "edc645d3-edcd-4021-9054-e57c18c2c4d0",
   "metadata": {},
   "outputs": [
    {
     "data": {
      "text/plain": [
       "45"
      ]
     },
     "execution_count": 16,
     "metadata": {},
     "output_type": "execute_result"
    }
   ],
   "source": [
    "my_list= [2,3,21,3,45,555]\n",
    "x = max(my_list)\n",
    "my_list.remove(x)\n",
    "y = max(my_list)\n",
    "y"
   ]
  },
  {
   "cell_type": "markdown",
   "id": "19defc3d-e261-4a51-a887-36174e634194",
   "metadata": {},
   "source": [
    "6. Implement a function to remove duplicate elements from a list.\n"
   ]
  },
  {
   "cell_type": "code",
   "execution_count": 18,
   "id": "6bae97f8-379d-42f6-b2e8-8b77b862ca73",
   "metadata": {},
   "outputs": [
    {
     "data": {
      "text/plain": [
       "[2, 3, 4, 5, 6, 56]"
      ]
     },
     "execution_count": 18,
     "metadata": {},
     "output_type": "execute_result"
    }
   ],
   "source": [
    "my_list= [2,2,3,4,5,6,4,56,3]\n",
    "ll = list(set(my_list))\n",
    "ll"
   ]
  },
  {
   "cell_type": "markdown",
   "id": "e1489494-cd3e-49f4-8795-c16f6f428509",
   "metadata": {},
   "source": [
    "7. Write a program to calculate the factorial of a given number.\n"
   ]
  },
  {
   "cell_type": "code",
   "execution_count": 22,
   "id": "6828cc7b-fc31-44e1-bfaa-5ecc79c11922",
   "metadata": {},
   "outputs": [],
   "source": [
    "def fact(n):\n",
    "    if n<=1:\n",
    "        return n\n",
    "    return n * fact(n-1)"
   ]
  },
  {
   "cell_type": "code",
   "execution_count": 23,
   "id": "c929efe6-2470-4cfa-9cbe-deb73c48b861",
   "metadata": {},
   "outputs": [
    {
     "data": {
      "text/plain": [
       "720"
      ]
     },
     "execution_count": 23,
     "metadata": {},
     "output_type": "execute_result"
    }
   ],
   "source": [
    "fact(6)"
   ]
  },
  {
   "cell_type": "markdown",
   "id": "590e42f8-fa9b-475b-8332-aeffc6072ff9",
   "metadata": {},
   "source": [
    "8. Implement a function to check if a given number is prime.\n"
   ]
  },
  {
   "cell_type": "code",
   "execution_count": 5,
   "id": "01a7109d-5123-4430-aedb-b35d2e760beb",
   "metadata": {},
   "outputs": [],
   "source": [
    "import math\n",
    "\n",
    "def isprime(n):\n",
    "    if n <= 1:\n",
    "        return False\n",
    "    for i in range(2, int(math.sqrt(n)) + 1):\n",
    "        if n % i == 0:\n",
    "            return False\n",
    "    return True\n"
   ]
  },
  {
   "cell_type": "code",
   "execution_count": 9,
   "id": "1b265653-90ff-4a61-bb6d-dfdaa9fdaed8",
   "metadata": {},
   "outputs": [
    {
     "data": {
      "text/plain": [
       "True"
      ]
     },
     "execution_count": 9,
     "metadata": {},
     "output_type": "execute_result"
    }
   ],
   "source": [
    "isprime(191)"
   ]
  },
  {
   "cell_type": "markdown",
   "id": "7ca05092-6380-465a-9753-292e98e5c570",
   "metadata": {},
   "source": [
    "9. Write a Python program to sort a list of integers in ascending order.\n"
   ]
  },
  {
   "cell_type": "code",
   "execution_count": 11,
   "id": "92a21610-2dc7-4550-b17a-516e3b25753d",
   "metadata": {},
   "outputs": [],
   "source": [
    "my_list=[2,4,1,5,6,34,2,33,2,8]\n",
    "sorted_list = sorted(my_list)"
   ]
  },
  {
   "cell_type": "code",
   "execution_count": 12,
   "id": "241e30be-10b7-4e7f-8bed-b6e59f92d2bf",
   "metadata": {},
   "outputs": [
    {
     "data": {
      "text/plain": [
       "[1, 2, 2, 2, 4, 5, 6, 8, 33, 34]"
      ]
     },
     "execution_count": 12,
     "metadata": {},
     "output_type": "execute_result"
    }
   ],
   "source": [
    "sorted_list"
   ]
  },
  {
   "cell_type": "markdown",
   "id": "4f88e24c-7799-4768-99f5-a2fda91cab4c",
   "metadata": {},
   "source": [
    "10. Implement a function to find the sum of all numbers in a list."
   ]
  },
  {
   "cell_type": "code",
   "execution_count": 13,
   "id": "b7170453-7fd5-4025-8f13-206cc986140a",
   "metadata": {},
   "outputs": [],
   "source": [
    "my_list=[2,4,1,5,6,34,2,33,2,8]\n",
    "summed_list = sum(my_list)"
   ]
  },
  {
   "cell_type": "code",
   "execution_count": 14,
   "id": "f13d5360-3b16-400c-b4b0-09e4a779f54b",
   "metadata": {},
   "outputs": [
    {
     "data": {
      "text/plain": [
       "97"
      ]
     },
     "execution_count": 14,
     "metadata": {},
     "output_type": "execute_result"
    }
   ],
   "source": [
    "summed_list"
   ]
  },
  {
   "cell_type": "markdown",
   "id": "4e1340f2-5fb2-4e51-a919-46137ea74f91",
   "metadata": {},
   "source": [
    "11.  Write a program to find the common elements between two lists.\n"
   ]
  },
  {
   "cell_type": "code",
   "execution_count": 16,
   "id": "9169121c-aff4-4f43-8bc0-34518bf9113e",
   "metadata": {},
   "outputs": [],
   "source": [
    "my_list1=[2,4,1,5,6,34,2,33,2,8]\n",
    "my_list2=[2,42,11,5,62,3,2]\n",
    "s1= set(my_list1)\n",
    "s2= set(my_list2)\n"
   ]
  },
  {
   "cell_type": "code",
   "execution_count": 17,
   "id": "594aeb12-d72b-4f69-9e27-235b4c04f9ba",
   "metadata": {},
   "outputs": [
    {
     "data": {
      "text/plain": [
       "[2, 5]"
      ]
     },
     "execution_count": 17,
     "metadata": {},
     "output_type": "execute_result"
    }
   ],
   "source": [
    "list(s1.intersection(s2))"
   ]
  },
  {
   "cell_type": "markdown",
   "id": "1bd061bc-1a44-4187-a3bf-3749f19f6aa4",
   "metadata": {},
   "source": [
    "12.  Implement a function to check if a given string is an anagram of another string.\n"
   ]
  },
  {
   "cell_type": "code",
   "execution_count": 18,
   "id": "feeca84d-3ed3-4a90-9c78-e756c5d69aec",
   "metadata": {},
   "outputs": [],
   "source": [
    "def isanagram(s1,s2):\n",
    "    s1= sorted(s1)\n",
    "    s2= sorted(s2)\n",
    "    if s1==s2:\n",
    "        return True\n",
    "    else:\n",
    "        return False\n",
    "        "
   ]
  },
  {
   "cell_type": "code",
   "execution_count": 21,
   "id": "e3b63c7d-ea36-42f7-9389-b6aa31083572",
   "metadata": {},
   "outputs": [
    {
     "data": {
      "text/plain": [
       "True"
      ]
     },
     "execution_count": 21,
     "metadata": {},
     "output_type": "execute_result"
    }
   ],
   "source": [
    "isanagram(\"listen\",\"silent\")"
   ]
  },
  {
   "cell_type": "markdown",
   "id": "bcb4f75d-d5fa-4624-9d63-4c591002448a",
   "metadata": {},
   "source": [
    "13. Write a Python program to generate all permutations of a given string.\n"
   ]
  },
  {
   "cell_type": "code",
   "execution_count": 23,
   "id": "02aa10d0-5d10-4969-acef-8b96a3b667dc",
   "metadata": {},
   "outputs": [
    {
     "name": "stdout",
     "output_type": "stream",
     "text": [
      "abc\n",
      "acb\n",
      "bac\n",
      "bca\n",
      "cab\n",
      "cba\n"
     ]
    }
   ],
   "source": [
    "import itertools\n",
    "\n",
    "def generate_permutations(string):\n",
    "    permutations = itertools.permutations(string)\n",
    "\n",
    "    result = [''.join(permutation) for permutation in permutations]\n",
    "\n",
    "    return result\n",
    "\n",
    "input_string = \"abc\"\n",
    "permutations = generate_permutations(input_string)\n",
    "for permutation in permutations:\n",
    "    print(permutation)\n"
   ]
  },
  {
   "cell_type": "markdown",
   "id": "af61ccfa-ce2d-4744-969e-78b729da124a",
   "metadata": {},
   "source": [
    "14. Implement a function to calculate the Fibonacci sequence up to a given number of terms.\n"
   ]
  },
  {
   "cell_type": "code",
   "execution_count": 24,
   "id": "954ad4bc-520e-4840-bbdb-f2933ec6c1c8",
   "metadata": {},
   "outputs": [],
   "source": [
    "def fib(n):\n",
    "    if n<=1:\n",
    "        return n\n",
    "    return fib(n-1)+fib(n-2)"
   ]
  },
  {
   "cell_type": "code",
   "execution_count": 25,
   "id": "a5ca2ffe-32f0-4f52-b1d2-2a66c21db9d1",
   "metadata": {},
   "outputs": [
    {
     "data": {
      "text/plain": [
       "8"
      ]
     },
     "execution_count": 25,
     "metadata": {},
     "output_type": "execute_result"
    }
   ],
   "source": [
    "fib(6)"
   ]
  },
  {
   "cell_type": "markdown",
   "id": "dcb5b8bc-273a-4ce0-9dac-2647ebc5ff53",
   "metadata": {},
   "source": [
    "15. Write a program to find the median of a list of numbers.\n"
   ]
  },
  {
   "cell_type": "code",
   "execution_count": 27,
   "id": "2e205018-1755-4581-9c04-0e525ddd3b13",
   "metadata": {},
   "outputs": [
    {
     "name": "stdout",
     "output_type": "stream",
     "text": [
      "4\n"
     ]
    }
   ],
   "source": [
    "import statistics\n",
    "\n",
    "my_list = [2, 3, 22, 32, 1, 4, 5]\n",
    "median_value = statistics.median(my_list)\n",
    "\n",
    "print(median_value)\n"
   ]
  },
  {
   "cell_type": "code",
   "execution_count": 1,
   "id": "72502938-4532-4415-b5bf-04b6975e2930",
   "metadata": {},
   "outputs": [],
   "source": [
    "# another approch"
   ]
  },
  {
   "cell_type": "code",
   "execution_count": 11,
   "id": "074a8683-0570-4aa4-bfe5-eb58d79f6e02",
   "metadata": {},
   "outputs": [
    {
     "name": "stdout",
     "output_type": "stream",
     "text": [
      "4\n"
     ]
    }
   ],
   "source": [
    "my_list = [2, 3, 22, 32, 1, 4, 5]\n",
    "n = len(my_list)\n",
    "\n",
    "sorted_list = sorted(my_list)\n",
    "\n",
    "if n % 2 == 0:\n",
    "    median = (sorted_list[n//2] + sorted_list[n//2 - 1]) / 2\n",
    "else:\n",
    "    median = sorted_list[n//2]\n",
    "\n",
    "print(median)\n"
   ]
  },
  {
   "cell_type": "markdown",
   "id": "eabe9137-02f5-4c50-b276-c77fcff75130",
   "metadata": {},
   "source": [
    "16. Implement a function to check if a given list is sorted in non-decreasing order.\n"
   ]
  },
  {
   "cell_type": "code",
   "execution_count": 15,
   "id": "8898ddb1-b3d4-47a4-a64f-e4aeb3152cc3",
   "metadata": {},
   "outputs": [],
   "source": [
    "def a(l):\n",
    "    n=0\n",
    "    for i in range(len(l)-1):\n",
    "            if l[i]<l[i+1]:\n",
    "                n=n+1\n",
    "    if n==len(l)-1:\n",
    "        return True\n",
    "    else:\n",
    "        return False"
   ]
  },
  {
   "cell_type": "code",
   "execution_count": 20,
   "id": "831b5eb9-7abc-4483-8f26-0a93fbced381",
   "metadata": {},
   "outputs": [
    {
     "data": {
      "text/plain": [
       "True"
      ]
     },
     "execution_count": 20,
     "metadata": {},
     "output_type": "execute_result"
    }
   ],
   "source": [
    "my_list= [1,2,3,4,5,6,7]\n",
    "a(my_list)"
   ]
  },
  {
   "cell_type": "markdown",
   "id": "907812e9-4398-44c1-94ed-adf7e28beede",
   "metadata": {},
   "source": [
    "17. Write a Python program to find the intersection of two lists."
   ]
  },
  {
   "cell_type": "code",
   "execution_count": 2,
   "id": "e75d18d7-5852-4aaf-b047-cbc5f35e2eb9",
   "metadata": {},
   "outputs": [],
   "source": [
    "l1= [1,2,4,3,6,5]\n",
    "l2= [1,2,3,4,7,9]\n",
    "\n",
    "l3= list(set(l1).intersection(set(l2)))"
   ]
  },
  {
   "cell_type": "code",
   "execution_count": 3,
   "id": "d15cbab0-37c9-4405-a673-b4ad9299199e",
   "metadata": {},
   "outputs": [
    {
     "data": {
      "text/plain": [
       "[1, 2, 3, 4]"
      ]
     },
     "execution_count": 3,
     "metadata": {},
     "output_type": "execute_result"
    }
   ],
   "source": [
    "l3"
   ]
  },
  {
   "cell_type": "markdown",
   "id": "233db695-ee0f-41fe-a602-9c4601fd0190",
   "metadata": {},
   "source": [
    "18. Implement a function to find the maximum subarray sum in a given list.\n"
   ]
  },
  {
   "cell_type": "code",
   "execution_count": 7,
   "id": "3b1931c9-1623-4677-be1c-8697e2cf561a",
   "metadata": {},
   "outputs": [],
   "source": [
    "def subarray(mylist):\n",
    "    c=0\n",
    "    m= mylist[0]\n",
    "    for i in range(len(mylist)):\n",
    "        c=c+mylist[i]\n",
    "        if c<0:\n",
    "            c=0\n",
    "        m= max(m,c)\n",
    "    return m\n",
    "        "
   ]
  },
  {
   "cell_type": "code",
   "execution_count": 8,
   "id": "084145f1-99b4-47cc-934f-cb8aaf6d979b",
   "metadata": {},
   "outputs": [
    {
     "data": {
      "text/plain": [
       "9"
      ]
     },
     "execution_count": 8,
     "metadata": {},
     "output_type": "execute_result"
    }
   ],
   "source": [
    "subarray([2,4,3,-1,5-6])"
   ]
  },
  {
   "cell_type": "markdown",
   "id": "abdadf53-c1d7-4aa9-a977-8846acaaddb8",
   "metadata": {},
   "source": [
    "19. Write a program to remove all vowels from a given string.\n"
   ]
  },
  {
   "cell_type": "code",
   "execution_count": 19,
   "id": "57645e25-9017-4fc5-a073-0c39a07312c2",
   "metadata": {},
   "outputs": [],
   "source": [
    "def remove_vowels(s):\n",
    "    vowels = 'aeiouAEIOU'\n",
    "    result = ''\n",
    "    for char in s:\n",
    "        if char not in vowels:\n",
    "            result += char\n",
    "    return result\n",
    "\n",
    "\n"
   ]
  },
  {
   "cell_type": "code",
   "execution_count": 20,
   "id": "e34b0072-c6c3-4e85-8585-d0ce91204592",
   "metadata": {},
   "outputs": [
    {
     "data": {
      "text/plain": [
       "'prdm'"
      ]
     },
     "execution_count": 20,
     "metadata": {},
     "output_type": "execute_result"
    }
   ],
   "source": [
    "remove_vowels(\"pradum\")"
   ]
  },
  {
   "cell_type": "markdown",
   "id": "2ac3e3af-ac6e-463f-bd24-7372bc0f6317",
   "metadata": {},
   "source": [
    "20. Implement a function to reverse the order of words in a given sentence.\n"
   ]
  },
  {
   "cell_type": "code",
   "execution_count": 23,
   "id": "6c35cb82-5704-4abb-bd28-c5e529e87c7e",
   "metadata": {},
   "outputs": [],
   "source": [
    "def rev_words(sentence):\n",
    "    words= sentence.split()\n",
    "    reverse_words= words[::-1]\n",
    "    reverse_sentence= ' '.join(reverse_words)\n",
    "    return reverse_sentence"
   ]
  },
  {
   "cell_type": "code",
   "execution_count": 24,
   "id": "f78e2d43-7d36-41cb-af9e-48a003d2daed",
   "metadata": {},
   "outputs": [
    {
     "data": {
      "text/plain": [
       "'shukla pradum is name my'"
      ]
     },
     "execution_count": 24,
     "metadata": {},
     "output_type": "execute_result"
    }
   ],
   "source": [
    "rev_words(\"my name is pradum shukla\")"
   ]
  },
  {
   "cell_type": "code",
   "execution_count": 25,
   "id": "b75abe16-ecf4-4d4a-8755-547152c4afbb",
   "metadata": {},
   "outputs": [],
   "source": [
    "s= \"my name is pradum shukla\"\n",
    "\n",
    "words = s.split()"
   ]
  },
  {
   "cell_type": "code",
   "execution_count": 26,
   "id": "7ee57d4a-2573-4be7-9fc4-ce77c9206115",
   "metadata": {},
   "outputs": [
    {
     "data": {
      "text/plain": [
       "['my', 'name', 'is', 'pradum', 'shukla']"
      ]
     },
     "execution_count": 26,
     "metadata": {},
     "output_type": "execute_result"
    }
   ],
   "source": [
    "words"
   ]
  },
  {
   "cell_type": "code",
   "execution_count": 30,
   "id": "28afbb76-8762-4d6d-8a81-0a94acd3c365",
   "metadata": {},
   "outputs": [],
   "source": [
    "s=[];\n",
    "for i in words:\n",
    "    s.append(i[::-1])"
   ]
  },
  {
   "cell_type": "code",
   "execution_count": 31,
   "id": "c35f7ea4-e6e8-44e5-9867-f9a48d7d476a",
   "metadata": {},
   "outputs": [
    {
     "data": {
      "text/plain": [
       "['ym', 'eman', 'si', 'mudarp', 'alkuhs']"
      ]
     },
     "execution_count": 31,
     "metadata": {},
     "output_type": "execute_result"
    }
   ],
   "source": [
    "s"
   ]
  },
  {
   "cell_type": "code",
   "execution_count": 32,
   "id": "73d8980d-2fb2-43c6-95e2-f55d3311a8f7",
   "metadata": {},
   "outputs": [],
   "source": [
    "w= \" \".join(s)"
   ]
  },
  {
   "cell_type": "code",
   "execution_count": 33,
   "id": "807af8ad-6821-4979-b0b6-bdc5cd385396",
   "metadata": {},
   "outputs": [
    {
     "data": {
      "text/plain": [
       "'ym eman si mudarp alkuhs'"
      ]
     },
     "execution_count": 33,
     "metadata": {},
     "output_type": "execute_result"
    }
   ],
   "source": [
    "w"
   ]
  },
  {
   "cell_type": "markdown",
   "id": "599e2ec6-8b44-42b8-bc52-d4326fe44d79",
   "metadata": {},
   "source": [
    "21. Write a Python program to check if two strings are anagrams of each other."
   ]
  },
  {
   "cell_type": "code",
   "execution_count": 34,
   "id": "7e7026da-3d1c-40b0-8700-1a8ea6f2d48f",
   "metadata": {},
   "outputs": [
    {
     "name": "stdout",
     "output_type": "stream",
     "text": [
      "listen and silent are anagrams.\n"
     ]
    }
   ],
   "source": [
    "def are_anagrams(str1, str2):\n",
    "    # Convert the strings to lowercase and remove any whitespace\n",
    "    str1 = str1.lower().replace(\" \", \"\")\n",
    "    str2 = str2.lower().replace(\" \", \"\")\n",
    "    \n",
    "    # Check if the lengths of the strings are equal\n",
    "    if len(str1) != len(str2):\n",
    "        return False\n",
    "    \n",
    "    # Create dictionaries to store the frequency of characters in both strings\n",
    "    freq1 = {}\n",
    "    freq2 = {}\n",
    "    \n",
    "    # Count the frequency of characters in the first string\n",
    "    for char in str1:\n",
    "        freq1[char] = freq1.get(char, 0) + 1\n",
    "    \n",
    "    # Count the frequency of characters in the second string\n",
    "    for char in str2:\n",
    "        freq2[char] = freq2.get(char, 0) + 1\n",
    "    \n",
    "    # Check if the dictionaries are equal\n",
    "    if freq1 == freq2:\n",
    "        return True\n",
    "    else:\n",
    "        return False\n",
    "\n",
    "\n",
    "# Example usage\n",
    "string1 = \"listen\"\n",
    "string2 = \"silent\"\n",
    "if are_anagrams(string1, string2):\n",
    "    print(f\"{string1} and {string2} are anagrams.\")\n",
    "else:\n",
    "    print(f\"{string1} and {string2} are not anagrams.\")\n"
   ]
  },
  {
   "cell_type": "markdown",
   "id": "f8452101-0ca3-4c77-9140-62aa1231b12d",
   "metadata": {},
   "source": [
    "22. Implement a function to find the first non-repeating character in a string."
   ]
  },
  {
   "cell_type": "code",
   "execution_count": 3,
   "id": "d1d6d2d4-5943-44b2-b734-852a647f3e2a",
   "metadata": {},
   "outputs": [],
   "source": [
    "from collections import Counter\n",
    "def first_non_rep(s):\n",
    "    h= Counter(s)\n",
    "    for i in range(len(s)):\n",
    "        if h[s[i]]==1:\n",
    "            return s[i]\n",
    "    return -1\n",
    "    \n",
    "        "
   ]
  },
  {
   "cell_type": "code",
   "execution_count": 7,
   "id": "60ac06ec-333f-44ce-a7f6-acb3886fabce",
   "metadata": {},
   "outputs": [
    {
     "data": {
      "text/plain": [
       "'i'"
      ]
     },
     "execution_count": 7,
     "metadata": {},
     "output_type": "execute_result"
    }
   ],
   "source": [
    "first_non_rep(\"aadditya\")"
   ]
  },
  {
   "cell_type": "markdown",
   "id": "403badf1-bdaf-49e4-bdad-3a6ad0fbf226",
   "metadata": {},
   "source": [
    "23. Write a program to find the prime factors of a given number.\n"
   ]
  },
  {
   "cell_type": "code",
   "execution_count": 8,
   "id": "bfdfaa88-6497-41b6-a413-66ca2f310b0a",
   "metadata": {},
   "outputs": [],
   "source": [
    "def prime_factors(n):\n",
    "    factors = []\n",
    "    i = 2\n",
    "    \n",
    "    while i * i <= n:\n",
    "        if n % i == 0:\n",
    "            factors.append(i)\n",
    "            n //= i\n",
    "        else:\n",
    "            i += 1\n",
    "    \n",
    "    if n > 1:\n",
    "        factors.append(n)\n",
    "    \n",
    "    return factors"
   ]
  },
  {
   "cell_type": "code",
   "execution_count": 11,
   "id": "9e3325d2-25f2-4583-9a69-b433dac7aab0",
   "metadata": {},
   "outputs": [
    {
     "name": "stdin",
     "output_type": "stream",
     "text": [
      "Enter a number:  10975\n"
     ]
    },
    {
     "name": "stdout",
     "output_type": "stream",
     "text": [
      "Prime factors: [5, 5, 439]\n"
     ]
    }
   ],
   "source": [
    "number = int(input(\"Enter a number: \"))\n",
    "factors = prime_factors(number)\n",
    "print(\"Prime factors:\", factors)"
   ]
  },
  {
   "cell_type": "markdown",
   "id": "54535795-5f43-463c-b569-048d94d1b2d2",
   "metadata": {},
   "source": [
    "24. Implement a function to check if a given number is a power of two.\n"
   ]
  },
  {
   "cell_type": "code",
   "execution_count": 15,
   "id": "0a9ff5cc-cb14-4ce9-830a-78a68aa978c7",
   "metadata": {},
   "outputs": [],
   "source": [
    "def is_power_of_two(n):\n",
    "    if n <= 0:\n",
    "        return False\n",
    "    while n > 1:\n",
    "        if n % 2 != 0:\n",
    "            return False\n",
    "        n //= 2\n",
    "    return True\n"
   ]
  },
  {
   "cell_type": "code",
   "execution_count": 16,
   "id": "ed5c243e-a43e-4fea-94f8-2977c7daaf0b",
   "metadata": {},
   "outputs": [
    {
     "data": {
      "text/plain": [
       "True"
      ]
     },
     "execution_count": 16,
     "metadata": {},
     "output_type": "execute_result"
    }
   ],
   "source": [
    "is_power_of_two(16)"
   ]
  },
  {
   "cell_type": "code",
   "execution_count": 17,
   "id": "e37aa159-42c5-4501-8ab9-781ca8f6cc55",
   "metadata": {},
   "outputs": [
    {
     "data": {
      "text/plain": [
       "False"
      ]
     },
     "execution_count": 17,
     "metadata": {},
     "output_type": "execute_result"
    }
   ],
   "source": [
    "is_power_of_two(24)"
   ]
  },
  {
   "cell_type": "markdown",
   "id": "0dd4b5d5-6da9-4080-afcb-585e55ca957d",
   "metadata": {},
   "source": [
    "25.  Write a Python program to merge two sorted lists into a single sorted list."
   ]
  },
  {
   "cell_type": "code",
   "execution_count": 26,
   "id": "54b34ae8-534f-43e4-a096-1fb43358d4ae",
   "metadata": {},
   "outputs": [],
   "source": [
    "l1 = [1, 2, 3, 4, 6, 8]\n",
    "l2 = [5, 7, 9]\n",
    "\n",
    "l1.extend(l2)\n",
    "l1 = sorted(l1)\n"
   ]
  },
  {
   "cell_type": "code",
   "execution_count": 27,
   "id": "bc9a80b1-ea8b-48dc-8654-331f9ab184a0",
   "metadata": {},
   "outputs": [
    {
     "data": {
      "text/plain": [
       "[1, 2, 3, 4, 5, 6, 7, 8, 9]"
      ]
     },
     "execution_count": 27,
     "metadata": {},
     "output_type": "execute_result"
    }
   ],
   "source": [
    "l1"
   ]
  },
  {
   "cell_type": "markdown",
   "id": "0d2e47d5-ff91-473a-bd60-7e3b9aefa014",
   "metadata": {},
   "source": [
    "26. Implement a function to find the mode of a list of numbers.\n"
   ]
  },
  {
   "cell_type": "code",
   "execution_count": 40,
   "id": "0a9cad6b-8498-4409-8537-b9832b3d67c3",
   "metadata": {},
   "outputs": [],
   "source": [
    "from collections import Counter\n",
    "\n",
    "def find_mode(l):\n",
    "    h = Counter(l)\n",
    "    m = 0\n",
    "    modes = []\n",
    "\n",
    "    for num, count in h.items():\n",
    "        if count > m:\n",
    "            m = count\n",
    "            modes = [num]\n",
    "        elif count == m:\n",
    "            modes.append(num)\n",
    "\n",
    "    return modes\n"
   ]
  },
  {
   "cell_type": "code",
   "execution_count": 42,
   "id": "f0cdd382-b6ab-4dc4-a587-9b591f4089d5",
   "metadata": {},
   "outputs": [
    {
     "data": {
      "text/plain": [
       "[3, 6]"
      ]
     },
     "execution_count": 42,
     "metadata": {},
     "output_type": "execute_result"
    }
   ],
   "source": [
    "find_mode([1,2,3,3,3,4,5,6,6,6])"
   ]
  },
  {
   "cell_type": "code",
   "execution_count": 43,
   "id": "a3d1107e-ed71-403f-b7b7-ca4e59d12a0d",
   "metadata": {},
   "outputs": [],
   "source": [
    "# another approch"
   ]
  },
  {
   "cell_type": "code",
   "execution_count": 50,
   "id": "c74100d0-1265-45aa-950a-576e28a88235",
   "metadata": {},
   "outputs": [],
   "source": [
    "import statistics\n",
    "\n",
    "def find_mode(l):\n",
    "    mode = statistics.mode(l)\n",
    "    return mode\n"
   ]
  },
  {
   "cell_type": "code",
   "execution_count": 52,
   "id": "7708a24a-6a1f-4e31-a750-2f6c316eec7a",
   "metadata": {},
   "outputs": [
    {
     "data": {
      "text/plain": [
       "6"
      ]
     },
     "execution_count": 52,
     "metadata": {},
     "output_type": "execute_result"
    }
   ],
   "source": [
    "find_mode([1,2,3,3,3,4,5,6,6,6,6])"
   ]
  },
  {
   "cell_type": "markdown",
   "id": "88eb02ee-7d50-43ff-8791-e3752a46af27",
   "metadata": {},
   "source": [
    "27. Write a program to find the greatest common divisor (GCD) of two numbers.\n"
   ]
  },
  {
   "cell_type": "code",
   "execution_count": 2,
   "id": "ff4fbaca-9382-4396-b769-24f6929c74ae",
   "metadata": {},
   "outputs": [],
   "source": [
    "def gcd(a, b):\n",
    "    while b != 0:\n",
    "        temp = b\n",
    "        b = a % b\n",
    "        a = temp\n",
    "    return a"
   ]
  },
  {
   "cell_type": "code",
   "execution_count": 3,
   "id": "9b0bd6ae-a853-4bad-a112-8c65eb237b24",
   "metadata": {},
   "outputs": [
    {
     "name": "stdout",
     "output_type": "stream",
     "text": [
      "GCD of 36 and 48 is: 12\n"
     ]
    }
   ],
   "source": [
    "num1 = 36\n",
    "num2 = 48\n",
    "result = gcd(num1, num2)\n",
    "print(\"GCD of\", num1, \"and\", num2, \"is:\", result)"
   ]
  },
  {
   "cell_type": "markdown",
   "id": "e3ed24fe-8771-47e1-8ebb-528153a4ff10",
   "metadata": {},
   "source": [
    "28. Implement a function to calculate the square root of a given number."
   ]
  },
  {
   "cell_type": "code",
   "execution_count": 4,
   "id": "a59fa1b8-0b7c-4c00-a690-361fc0854440",
   "metadata": {},
   "outputs": [],
   "source": [
    "def sqrt(n):\n",
    "    return pow(n,0.5)\n"
   ]
  },
  {
   "cell_type": "code",
   "execution_count": 5,
   "id": "178249fb-198c-4cd6-bc4e-457b6a815b43",
   "metadata": {},
   "outputs": [
    {
     "data": {
      "text/plain": [
       "5.0"
      ]
     },
     "execution_count": 5,
     "metadata": {},
     "output_type": "execute_result"
    }
   ],
   "source": [
    "sqrt(25)"
   ]
  },
  {
   "cell_type": "code",
   "execution_count": 6,
   "id": "4b4cf519-c8d2-4e0f-834c-55cf9e4e5419",
   "metadata": {},
   "outputs": [
    {
     "data": {
      "text/plain": [
       "5.477225575051661"
      ]
     },
     "execution_count": 6,
     "metadata": {},
     "output_type": "execute_result"
    }
   ],
   "source": [
    "sqrt(30)"
   ]
  },
  {
   "cell_type": "markdown",
   "id": "9ab7b8c1-9c16-473f-a825-bd9a468374a1",
   "metadata": {},
   "source": [
    "29. Write a Python program to check if a given string is a valid palindrome ignoring non-alphanumeric characters.\n"
   ]
  },
  {
   "cell_type": "code",
   "execution_count": 13,
   "id": "6a3b968f-48eb-42fb-abb4-c230ee061f08",
   "metadata": {},
   "outputs": [],
   "source": [
    "import re\n",
    "\n",
    "def is_valid_palindrome(string):\n",
    "    # Remove non-alphanumeric characters\n",
    "    cleaned_string = re.sub(r'[^a-zA-Z0-9]', '', string)\n",
    "    # Convert string to lowercase\n",
    "    cleaned_string = cleaned_string.lower()\n",
    "    # Check if the cleaned string is equal to its reverse\n",
    "    return cleaned_string == cleaned_string[::-1]\n"
   ]
  },
  {
   "cell_type": "code",
   "execution_count": 14,
   "id": "4e73f837-889d-4bbd-9852-3990fb044ae5",
   "metadata": {},
   "outputs": [
    {
     "name": "stdout",
     "output_type": "stream",
     "text": [
      "Is valid palindrome: True\n"
     ]
    }
   ],
   "source": [
    "input_string = \"A man, a plan, a canal: Panama!\"\n",
    "result = is_valid_palindrome(input_string)\n",
    "print(\"Is valid palindrome:\", result)\n"
   ]
  },
  {
   "cell_type": "markdown",
   "id": "adfc6d4c-8cf6-4984-9cf0-bf85272cd0e1",
   "metadata": {},
   "source": [
    "30. Implement a function to find the minimum element in a rotated sorted list."
   ]
  },
  {
   "cell_type": "code",
   "execution_count": 15,
   "id": "5ed9a512-331b-4d86-b2f7-974f94455f87",
   "metadata": {},
   "outputs": [],
   "source": [
    "def find_min_element(nums):\n",
    "    left = 0\n",
    "    right = len(nums) - 1\n",
    "    \n",
    "    while left < right:\n",
    "        mid = left + (right - left) // 2\n",
    "        \n",
    "        # Check if the middle element is greater than the rightmost element\n",
    "        if nums[mid] > nums[right]:\n",
    "            left = mid + 1\n",
    "        # Check if the middle element is less than the rightmost element\n",
    "        elif nums[mid] < nums[right]:\n",
    "            right = mid\n",
    "        # If the middle element is equal to the rightmost element, decrement right pointer\n",
    "        else:\n",
    "            right -= 1\n",
    "    \n",
    "    # At the end of the loop, left pointer will point to the minimum element\n",
    "    return nums[left]\n"
   ]
  },
  {
   "cell_type": "code",
   "execution_count": 16,
   "id": "3d73e074-7040-402b-b6a2-733bbff23f97",
   "metadata": {},
   "outputs": [
    {
     "name": "stdout",
     "output_type": "stream",
     "text": [
      "Minimum element: 0\n"
     ]
    }
   ],
   "source": [
    "nums = [4, 5, 6, 7, 0, 1, 2]\n",
    "min_element = find_min_element(nums)\n",
    "print(\"Minimum element:\", min_element)\n"
   ]
  },
  {
   "cell_type": "markdown",
   "id": "55514c1d-54c4-4440-a6c1-4516368e7715",
   "metadata": {},
   "source": [
    "31. Write a program to find the sum of all even numbers in a list."
   ]
  },
  {
   "cell_type": "code",
   "execution_count": 18,
   "id": "2c3785c2-92eb-4e82-adb9-1904f3156d46",
   "metadata": {},
   "outputs": [
    {
     "name": "stdout",
     "output_type": "stream",
     "text": [
      "12\n"
     ]
    }
   ],
   "source": [
    "l= [1,2,3,4,5,6]\n",
    "s= 0\n",
    "for i in range(len(l)):\n",
    "    if l[i]%2==0:\n",
    "        s=s+l[i]\n",
    "print(s)\n",
    "    "
   ]
  },
  {
   "cell_type": "markdown",
   "id": "ffb8db2f-b456-49c3-924e-6f8c1dcb47a8",
   "metadata": {},
   "source": [
    "32. Implement a function to calculate the power of a number using recursion.\n"
   ]
  },
  {
   "cell_type": "code",
   "execution_count": 19,
   "id": "f72022ea-35ae-4301-91d7-8fffc014ae51",
   "metadata": {},
   "outputs": [],
   "source": [
    "def p(a,n):\n",
    "    if n==1:\n",
    "        return a\n",
    "    return a*p(a,n-1)"
   ]
  },
  {
   "cell_type": "code",
   "execution_count": 21,
   "id": "a15f3f00-d5eb-448a-bbaf-d43c9bf0f87a",
   "metadata": {},
   "outputs": [
    {
     "data": {
      "text/plain": [
       "16"
      ]
     },
     "execution_count": 21,
     "metadata": {},
     "output_type": "execute_result"
    }
   ],
   "source": [
    "p(2,4)"
   ]
  },
  {
   "cell_type": "code",
   "execution_count": 22,
   "id": "a18692c1-f173-4091-a61a-ede67d432c1d",
   "metadata": {},
   "outputs": [
    {
     "data": {
      "text/plain": [
       "243"
      ]
     },
     "execution_count": 22,
     "metadata": {},
     "output_type": "execute_result"
    }
   ],
   "source": [
    "p(3,5)"
   ]
  },
  {
   "cell_type": "markdown",
   "id": "c11290be-4e7a-42dd-b34a-dc9b90f8e7f9",
   "metadata": {},
   "source": [
    "33. Write a Python program to remove duplicates from a list while preserving the order.\n"
   ]
  },
  {
   "cell_type": "code",
   "execution_count": 27,
   "id": "0fefdd12-6dfc-4419-89a8-d8fbf5483484",
   "metadata": {},
   "outputs": [],
   "source": [
    "def remove_duplicates(lst):\n",
    "    seen = set()\n",
    "    return [x for x in lst if not (x in seen or seen.add(x))]\n"
   ]
  },
  {
   "cell_type": "code",
   "execution_count": 31,
   "id": "2beb4541-25aa-4ff8-a014-198983e8308a",
   "metadata": {},
   "outputs": [
    {
     "name": "stdout",
     "output_type": "stream",
     "text": [
      "List after removing duplicates: [1, 2, 3, 6, 4, 5]\n"
     ]
    }
   ],
   "source": [
    "lst = [1, 2, 3, 2, 6, 6, 4, 1, 5, 3]\n",
    "result = remove_duplicates(lst)\n",
    "print(\"List after removing duplicates:\", result)\n"
   ]
  },
  {
   "cell_type": "markdown",
   "id": "44355e81-939f-4f4e-bcef-3304e1146db3",
   "metadata": {},
   "source": [
    "34.  Implement a function to find the longest common prefix among a list of strings.\n"
   ]
  },
  {
   "cell_type": "code",
   "execution_count": 34,
   "id": "5506bef6-3d0c-4559-bb2a-374c1b7447b9",
   "metadata": {},
   "outputs": [],
   "source": [
    "def cp(s1,s2):\n",
    "    n1= len(s1)\n",
    "    n2= len(s2)\n",
    "    \n",
    "    m= min(n1,n2)\n",
    "    \n",
    "    s3=''\n",
    "    \n",
    "    for i in range(m):\n",
    "        if s1[i]==s2[i]:\n",
    "            s3=s3+s1[i]\n",
    "        else:\n",
    "            break\n",
    "            \n",
    "    return s3\n"
   ]
  },
  {
   "cell_type": "code",
   "execution_count": 35,
   "id": "f169d685-8ad4-4213-953b-bfd9b727afb7",
   "metadata": {},
   "outputs": [
    {
     "data": {
      "text/plain": [
       "'pra'"
      ]
     },
     "execution_count": 35,
     "metadata": {},
     "output_type": "execute_result"
    }
   ],
   "source": [
    "cp('pradyum','prakhar')"
   ]
  },
  {
   "cell_type": "code",
   "execution_count": 36,
   "id": "fdddb857-69ed-4336-86c3-c1ec3a49a012",
   "metadata": {},
   "outputs": [
    {
     "data": {
      "text/plain": [
       "'geeks'"
      ]
     },
     "execution_count": 36,
     "metadata": {},
     "output_type": "execute_result"
    }
   ],
   "source": [
    "cp('geeksforgeeks', 'geeks')"
   ]
  },
  {
   "cell_type": "markdown",
   "id": "5dae953c-0a87-441c-bc10-c374fd31bd17",
   "metadata": {},
   "source": [
    "35. Write a program to check if a given number is a perfect square.\n"
   ]
  },
  {
   "cell_type": "code",
   "execution_count": 43,
   "id": "58a1c95c-c99b-457f-b4d2-9727faea8076",
   "metadata": {},
   "outputs": [],
   "source": [
    "import math\n",
    "def issq(n):\n",
    "    p= int(math.sqrt(n))\n",
    "    q= math.sqrt(n)\n",
    "    \n",
    "    return p==q\n",
    "    "
   ]
  },
  {
   "cell_type": "code",
   "execution_count": 44,
   "id": "e457fda4-0778-4578-b8cb-6b87f9ee00a6",
   "metadata": {},
   "outputs": [
    {
     "data": {
      "text/plain": [
       "True"
      ]
     },
     "execution_count": 44,
     "metadata": {},
     "output_type": "execute_result"
    }
   ],
   "source": [
    "issq(256)"
   ]
  },
  {
   "cell_type": "code",
   "execution_count": 45,
   "id": "067f7ba3-9563-4b98-9089-cd4fb26440eb",
   "metadata": {},
   "outputs": [
    {
     "data": {
      "text/plain": [
       "False"
      ]
     },
     "execution_count": 45,
     "metadata": {},
     "output_type": "execute_result"
    }
   ],
   "source": [
    "issq(190)"
   ]
  },
  {
   "cell_type": "markdown",
   "id": "252e7ea0-59ae-437e-b04f-20059ddd5584",
   "metadata": {},
   "source": [
    "36. Implement a function to calculate the product of all elements in a list.\n"
   ]
  },
  {
   "cell_type": "code",
   "execution_count": 47,
   "id": "8dfacc75-f297-47dc-936c-29c7094a0419",
   "metadata": {},
   "outputs": [
    {
     "name": "stdout",
     "output_type": "stream",
     "text": [
      "720\n"
     ]
    }
   ],
   "source": [
    "l1= [1,2,3,4,5,6]\n",
    "s=1\n",
    "for i in range(len(l1)):\n",
    "    s=s*l1[i]\n",
    "print(s)"
   ]
  },
  {
   "cell_type": "markdown",
   "id": "29eea8e3-5ee2-462c-bc0d-9c93705f44e4",
   "metadata": {},
   "source": [
    "37. Write a Python program to reverse the order of words in a sentence while preserving the word order."
   ]
  },
  {
   "cell_type": "code",
   "execution_count": 3,
   "id": "f4b70e5f-36a0-4278-a692-96e8029e5c06",
   "metadata": {},
   "outputs": [],
   "source": [
    "def sentence(s):\n",
    "    l= s.split()\n",
    "    l1=[]\n",
    "    for i in l:\n",
    "        l1.append(i[::-1])\n",
    "    return ' '.join(l1)"
   ]
  },
  {
   "cell_type": "code",
   "execution_count": 4,
   "id": "980e26e7-b1ab-4169-94f5-4c70299008ec",
   "metadata": {},
   "outputs": [
    {
     "data": {
      "text/plain": [
       "'ym eman si alkuhs'"
      ]
     },
     "execution_count": 4,
     "metadata": {},
     "output_type": "execute_result"
    }
   ],
   "source": [
    "sentence('my name is shukla')"
   ]
  },
  {
   "cell_type": "markdown",
   "id": "bf9cf60d-fe49-4e9e-a4e7-19bb2d471e27",
   "metadata": {},
   "source": [
    "38. Implement a function to find the missing number in a given list of consecutive numbers.\n"
   ]
  },
  {
   "cell_type": "code",
   "execution_count": 6,
   "id": "41f65353-8556-4d2d-9052-139977cc7cfb",
   "metadata": {},
   "outputs": [],
   "source": [
    "def num(l):\n",
    "    for i in range(len(l)):\n",
    "        if l[i]==l[i+1]-1:\n",
    "            continue\n",
    "        else:\n",
    "            return l[i]+1\n",
    "    return -1"
   ]
  },
  {
   "cell_type": "code",
   "execution_count": 7,
   "id": "bad1a750-f54c-4143-8277-ae008b0819ee",
   "metadata": {},
   "outputs": [
    {
     "data": {
      "text/plain": [
       "6"
      ]
     },
     "execution_count": 7,
     "metadata": {},
     "output_type": "execute_result"
    }
   ],
   "source": [
    "num([1,2,3,4,5,7,8])"
   ]
  },
  {
   "cell_type": "code",
   "execution_count": 8,
   "id": "cfc12fc9-24f6-4de8-a07d-3f0d2f48a8cb",
   "metadata": {},
   "outputs": [
    {
     "data": {
      "text/plain": [
       "-1"
      ]
     },
     "execution_count": 8,
     "metadata": {},
     "output_type": "execute_result"
    }
   ],
   "source": [
    "num([-4,-3,-2,0,1,2])"
   ]
  },
  {
   "cell_type": "markdown",
   "id": "5d706b25-dd5b-4da1-ba2b-7611c568d809",
   "metadata": {},
   "source": [
    "39. Write a program to find the sum of digits of a given number.\n"
   ]
  },
  {
   "cell_type": "code",
   "execution_count": 12,
   "id": "d039679d-25d3-40e2-a3a9-823090e79cf4",
   "metadata": {},
   "outputs": [],
   "source": [
    "def summation(n):\n",
    "    l = list(map(int, str(n)))\n",
    "    s = sum(l)\n",
    "    return s"
   ]
  },
  {
   "cell_type": "code",
   "execution_count": 13,
   "id": "d9b6f905-1b11-436a-a715-6a839982784a",
   "metadata": {},
   "outputs": [
    {
     "data": {
      "text/plain": [
       "10"
      ]
     },
     "execution_count": 13,
     "metadata": {},
     "output_type": "execute_result"
    }
   ],
   "source": [
    "summation(1234)"
   ]
  },
  {
   "cell_type": "markdown",
   "id": "400d63fc-f36b-4451-ac28-d9af6a9dfb6e",
   "metadata": {},
   "source": [
    "40.  Implement a function to check if a given string is a valid palindrome considering case sensitivity.\n"
   ]
  },
  {
   "cell_type": "code",
   "execution_count": 14,
   "id": "22d7b86c-69c7-47cb-8aa7-78574e0749bf",
   "metadata": {},
   "outputs": [
    {
     "name": "stdout",
     "output_type": "stream",
     "text": [
      "True\n"
     ]
    }
   ],
   "source": [
    "def is_valid_palindrome(s):\n",
    "    # Remove non-alphanumeric characters\n",
    "    alphanumeric = ''.join(ch for ch in s if ch.isalnum())\n",
    "    # Convert to lowercase\n",
    "    lowercase = alphanumeric.lower()\n",
    "    # Check if the string and its reverse are equal\n",
    "    return lowercase == lowercase[::-1]\n",
    "\n",
    "# Example usage\n",
    "string = \"A man, a plan, a canal: Panama\"\n",
    "result = is_valid_palindrome(string)\n",
    "print(result)  # Output: True\n"
   ]
  },
  {
   "cell_type": "markdown",
   "id": "847e6915-2e1d-4888-81d1-156e7fc8a3a8",
   "metadata": {},
   "source": [
    "41.  Write a Python program to find the smallest missing positive integer in a list.\n"
   ]
  },
  {
   "cell_type": "code",
   "execution_count": 5,
   "id": "4cf876ff-40ab-4962-8855-34e14b796812",
   "metadata": {},
   "outputs": [],
   "source": [
    "def check(l):\n",
    "    m=max(l)\n",
    "    \n",
    "    for i in range(1,m):\n",
    "        if i not in l:\n",
    "            return i\n",
    "            break\n",
    "    return -1"
   ]
  },
  {
   "cell_type": "code",
   "execution_count": 6,
   "id": "30a4c89a-2552-4865-b0fc-5bfc2cd11a48",
   "metadata": {},
   "outputs": [
    {
     "data": {
      "text/plain": [
       "4"
      ]
     },
     "execution_count": 6,
     "metadata": {},
     "output_type": "execute_result"
    }
   ],
   "source": [
    "check([1,2,3,5,6,7])"
   ]
  },
  {
   "cell_type": "code",
   "execution_count": 8,
   "id": "d513f241-79b2-4c3f-b95f-39324749cdb4",
   "metadata": {},
   "outputs": [
    {
     "data": {
      "text/plain": [
       "1"
      ]
     },
     "execution_count": 8,
     "metadata": {},
     "output_type": "execute_result"
    }
   ],
   "source": [
    "check([2, 3, 7, 6, 8, -1, -10, 15])"
   ]
  },
  {
   "cell_type": "code",
   "execution_count": 9,
   "id": "9f2dc6fa-2ce6-42c3-b87b-f1a66e8824df",
   "metadata": {},
   "outputs": [
    {
     "data": {
      "text/plain": [
       "4"
      ]
     },
     "execution_count": 9,
     "metadata": {},
     "output_type": "execute_result"
    }
   ],
   "source": [
    "check([2, 3, -7, 6, 8, 1, -10, 15])"
   ]
  },
  {
   "cell_type": "markdown",
   "id": "b8005862-3c35-4363-adf6-4aee72ed1192",
   "metadata": {},
   "source": [
    "42. Implement a function to find the longest palindrome substring in a given string.\n"
   ]
  },
  {
   "cell_type": "code",
   "execution_count": 10,
   "id": "76895725-7b84-42f3-9e26-de9cf042ac1d",
   "metadata": {},
   "outputs": [],
   "source": [
    "def longest_palindrome(string):\n",
    "    longest_palindrome = \"\"\n",
    "    n = len(string)\n",
    "    for i in range(n):\n",
    "        for j in range(i, n):\n",
    "            if string[i:j + 1] == string[j:i - 1:-1]:\n",
    "                if len(string[i:j + 1]) > len(longest_palindrome):\n",
    "                    longest_palindrome = string[i:j + 1]\n",
    "    return longest_palindrome"
   ]
  },
  {
   "cell_type": "code",
   "execution_count": 12,
   "id": "1bb57b86-09b3-480a-bf7d-72acb4436472",
   "metadata": {},
   "outputs": [
    {
     "name": "stdout",
     "output_type": "stream",
     "text": [
      "aba\n"
     ]
    }
   ],
   "source": [
    "string = \"babad\"\n",
    "print(longest_palindrome(string))"
   ]
  },
  {
   "cell_type": "markdown",
   "id": "cac5e71f-e2fa-4507-94c5-74a750e6e7a1",
   "metadata": {},
   "source": [
    "43. Write a program to find the number of occurrences of a given element in a list.\n"
   ]
  },
  {
   "cell_type": "code",
   "execution_count": 13,
   "id": "698f4f94-40ed-4899-8f6f-01f067a4b8c2",
   "metadata": {},
   "outputs": [
    {
     "data": {
      "text/plain": [
       "Counter({1: 2, 2: 2, 3: 2, 4: 2, 5: 1, 6: 1, 7: 1})"
      ]
     },
     "execution_count": 13,
     "metadata": {},
     "output_type": "execute_result"
    }
   ],
   "source": [
    "from collections import Counter\n",
    "l=[1,2,3,4,2,3,1,4,5,6,7]\n",
    "h=Counter(l)\n",
    "h"
   ]
  },
  {
   "cell_type": "markdown",
   "id": "49371155-3a1b-484f-9c0d-5b412accae4a",
   "metadata": {},
   "source": [
    "44. Implement a function to check if a given number is a perfect number."
   ]
  },
  {
   "cell_type": "code",
   "execution_count": 14,
   "id": "75a46247-9875-4931-be2e-99334c1f5167",
   "metadata": {},
   "outputs": [],
   "source": [
    "def perfectno(n):\n",
    "    l=[]\n",
    "    for i in range(1,n//2 +1):\n",
    "        if n%i==0:\n",
    "            l.append(i)\n",
    "    s= sum(l)\n",
    "    return s==n\n"
   ]
  },
  {
   "cell_type": "code",
   "execution_count": 15,
   "id": "a094ec6b-e950-4058-a1c5-6408ec069483",
   "metadata": {},
   "outputs": [
    {
     "data": {
      "text/plain": [
       "True"
      ]
     },
     "execution_count": 15,
     "metadata": {},
     "output_type": "execute_result"
    }
   ],
   "source": [
    "perfectno(6)"
   ]
  },
  {
   "cell_type": "code",
   "execution_count": 16,
   "id": "86971a23-0d90-4866-bee5-c8c97165a5b7",
   "metadata": {},
   "outputs": [
    {
     "data": {
      "text/plain": [
       "False"
      ]
     },
     "execution_count": 16,
     "metadata": {},
     "output_type": "execute_result"
    }
   ],
   "source": [
    "perfectno(15)"
   ]
  },
  {
   "cell_type": "markdown",
   "id": "bf580ff0-a72b-4e56-8353-9c3360ba0259",
   "metadata": {},
   "source": [
    "45. Write a Python program to remove all duplicates from a string."
   ]
  },
  {
   "cell_type": "code",
   "execution_count": 21,
   "id": "94ab1127-fae6-47f5-b090-d328d112a27d",
   "metadata": {},
   "outputs": [
    {
     "name": "stdout",
     "output_type": "stream",
     "text": [
      "ab"
     ]
    }
   ],
   "source": [
    "\n",
    "string=\"aabababa\"\n",
    "k2=[]\n",
    "for ele in string:\n",
    "    if ele not in k2:\n",
    "        k2.append(ele)\n",
    "for i in range(0,len(k2)):\n",
    "    print(k2[i],end=\"\")"
   ]
  },
  {
   "cell_type": "code",
   "execution_count": 19,
   "id": "471d8aa8-c8d0-4bcd-b64c-8e2af9424e08",
   "metadata": {},
   "outputs": [],
   "source": [
    "# another approach"
   ]
  },
  {
   "cell_type": "code",
   "execution_count": 23,
   "id": "03216c89-9791-4e2e-98de-f069f6a7986e",
   "metadata": {},
   "outputs": [
    {
     "name": "stdout",
     "output_type": "stream",
     "text": [
      "ba\n"
     ]
    }
   ],
   "source": [
    "print(''.join(set(string)))"
   ]
  },
  {
   "cell_type": "markdown",
   "id": "cfc60730-dd03-481e-b912-3c5f7aa54ece",
   "metadata": {},
   "source": [
    "46. Implement a function to find the first missing positive\n"
   ]
  },
  {
   "cell_type": "code",
   "execution_count": 24,
   "id": "ecc893d6-2372-4c18-8c8f-ed5321fc56f2",
   "metadata": {},
   "outputs": [],
   "source": [
    "def first_missing_positive(nums):\n",
    "    n = len(nums)\n",
    "    for i in range(n):\n",
    "        while nums[i] != i + 1 and nums[i] > 0 and nums[i] <= n:\n",
    "            temp = nums[i]\n",
    "            nums[i] = nums[temp - 1]\n",
    "            nums[temp - 1] = temp\n",
    "    for i in range(n):\n",
    "        if nums[i] != i + 1:\n",
    "            return i + 1\n",
    "    return n + 1"
   ]
  },
  {
   "cell_type": "code",
   "execution_count": 25,
   "id": "4b41cd1f-4abb-4c72-a3bd-639e23a1bfc3",
   "metadata": {},
   "outputs": [
    {
     "name": "stdout",
     "output_type": "stream",
     "text": [
      "4\n"
     ]
    }
   ],
   "source": [
    "nums = [1, 2, 0, 3, 5]\n",
    "print(first_missing_positive(nums))"
   ]
  },
  {
   "cell_type": "code",
   "execution_count": null,
   "id": "d58ab4d0-0fad-4312-8d43-46263f5564f9",
   "metadata": {},
   "outputs": [],
   "source": []
  }
 ],
 "metadata": {
  "kernelspec": {
   "display_name": "Python 3 (ipykernel)",
   "language": "python",
   "name": "python3"
  },
  "language_info": {
   "codemirror_mode": {
    "name": "ipython",
    "version": 3
   },
   "file_extension": ".py",
   "mimetype": "text/x-python",
   "name": "python",
   "nbconvert_exporter": "python",
   "pygments_lexer": "ipython3",
   "version": "3.10.8"
  }
 },
 "nbformat": 4,
 "nbformat_minor": 5
}
